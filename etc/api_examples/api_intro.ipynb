{
 "cells": [
  {
   "cell_type": "markdown",
   "metadata": {},
   "source": [
    "# API Creation \n",
    "This notebook is a sample of how to author a REST API in the notebook environment."
   ]
  },
  {
   "cell_type": "code",
   "execution_count": 1,
   "metadata": {
    "collapsed": true
   },
   "outputs": [],
   "source": [
    "import json"
   ]
  },
  {
   "cell_type": "code",
   "execution_count": 2,
   "metadata": {
    "collapsed": true
   },
   "outputs": [],
   "source": [
    "hello_message = 'hello {}'\n",
    "people = ['Corey', 'Nitin', 'Pete']"
   ]
  },
  {
   "cell_type": "markdown",
   "metadata": {},
   "source": [
    "## Hello"
   ]
  },
  {
   "cell_type": "code",
   "execution_count": 3,
   "metadata": {
    "collapsed": false
   },
   "outputs": [
    {
     "name": "stdout",
     "output_type": "stream",
     "text": [
      "hello world\n"
     ]
    }
   ],
   "source": [
    "# GET /hello\n",
    "print(hello_message.format('world'))"
   ]
  },
  {
   "cell_type": "code",
   "execution_count": 4,
   "metadata": {
    "collapsed": false
   },
   "outputs": [],
   "source": [
    "REQUEST = json.dumps({\n",
    "    'args': { \n",
    "        'person' : people\n",
    "    }\n",
    "})"
   ]
  },
  {
   "cell_type": "code",
   "execution_count": 5,
   "metadata": {
    "collapsed": false
   },
   "outputs": [
    {
     "name": "stdout",
     "output_type": "stream",
     "text": [
      "hello Corey\n"
     ]
    }
   ],
   "source": [
    "# GET /hello/person\n",
    "req = json.loads(REQUEST)\n",
    "hello_person = req['args']['person'][0]\n",
    "print(hello_message.format(hello_person))"
   ]
  },
  {
   "cell_type": "code",
   "execution_count": 6,
   "metadata": {
    "collapsed": true
   },
   "outputs": [],
   "source": [
    "REQUEST = json.dumps({\n",
    "    'args': { \n",
    "        'person' : people\n",
    "    }\n",
    "})"
   ]
  },
  {
   "cell_type": "code",
   "execution_count": 7,
   "metadata": {
    "collapsed": false
   },
   "outputs": [
    {
     "name": "stdout",
     "output_type": "stream",
     "text": [
      "hello Corey, Nitin, Pete\n"
     ]
    }
   ],
   "source": [
    "# GET /hello/persons\n",
    "req = json.loads(REQUEST)\n",
    "hello_persons = req['args']['person']\n",
    "print(hello_message.format(', '.join(hello_persons)))"
   ]
  },
  {
   "cell_type": "code",
   "execution_count": 8,
   "metadata": {
    "collapsed": false
   },
   "outputs": [
    {
     "name": "stdout",
     "output_type": "stream",
     "text": [
      "hello Corey, Nitin, Pete\n"
     ]
    }
   ],
   "source": [
    "# GET /hello/people\n",
    "hello_people = people\n",
    "print(hello_message.format(', '.join(hello_people)))"
   ]
  },
  {
   "cell_type": "code",
   "execution_count": 9,
   "metadata": {
    "collapsed": true
   },
   "outputs": [],
   "source": [
    "REQUEST = json.dumps({\n",
    "    'path' : {\n",
    "        'person' : 'test_person'\n",
    "    }\n",
    "})"
   ]
  },
  {
   "cell_type": "code",
   "execution_count": 10,
   "metadata": {
    "collapsed": false
   },
   "outputs": [
    {
     "name": "stdout",
     "output_type": "stream",
     "text": [
      "hello test_person\n"
     ]
    }
   ],
   "source": [
    "# GET /hello/:person\n",
    "req = json.loads(REQUEST)\n",
    "print(hello_message.format(req['path']['person']))"
   ]
  },
  {
   "cell_type": "markdown",
   "metadata": {},
   "source": [
    "## Messages"
   ]
  },
  {
   "cell_type": "code",
   "execution_count": 11,
   "metadata": {
    "collapsed": false
   },
   "outputs": [
    {
     "name": "stdout",
     "output_type": "stream",
     "text": [
      "hello {}\n"
     ]
    }
   ],
   "source": [
    "# GET /message\n",
    "print(hello_message)"
   ]
  },
  {
   "cell_type": "code",
   "execution_count": 13,
   "metadata": {
    "collapsed": true
   },
   "outputs": [],
   "source": [
    "REQUEST = json.dumps({\n",
    "    'body' : 'test value'\n",
    "})"
   ]
  },
  {
   "cell_type": "code",
   "execution_count": 14,
   "metadata": {
    "collapsed": false
   },
   "outputs": [
    {
     "name": "stdout",
     "output_type": "stream",
     "text": [
      "test value\n"
     ]
    }
   ],
   "source": [
    "# PUT /message\n",
    "req = json.loads(REQUEST)\n",
    "hello_message = req['body']\n",
    "print(hello_message)"
   ]
  },
  {
   "cell_type": "markdown",
   "metadata": {},
   "source": [
    "## People"
   ]
  },
  {
   "cell_type": "code",
   "execution_count": 15,
   "metadata": {
    "collapsed": false
   },
   "outputs": [
    {
     "name": "stdout",
     "output_type": "stream",
     "text": [
      "['Corey', 'Nitin', 'Pete']\n"
     ]
    }
   ],
   "source": [
    "# GET /people\n",
    "print(people)"
   ]
  },
  {
   "cell_type": "code",
   "execution_count": 16,
   "metadata": {
    "collapsed": true
   },
   "outputs": [],
   "source": [
    "REQUEST = json.dumps({\n",
    "    'body' : ['Rick', 'Maggie', 'Glenn', 'Carol', 'Daryl']\n",
    "})"
   ]
  },
  {
   "cell_type": "code",
   "execution_count": 17,
   "metadata": {
    "collapsed": false
   },
   "outputs": [
    {
     "name": "stdout",
     "output_type": "stream",
     "text": [
      "['Rick', 'Maggie', 'Glenn', 'Carol', 'Daryl']\n"
     ]
    }
   ],
   "source": [
    "# POST /people\n",
    "req = json.loads(REQUEST)\n",
    "people = req['body']\n",
    "print(people)"
   ]
  },
  {
   "cell_type": "code",
   "execution_count": 18,
   "metadata": {
    "collapsed": true
   },
   "outputs": [],
   "source": [
    "REQUEST = json.dumps({\n",
    "    'body' : 'Michonne'\n",
    "})"
   ]
  },
  {
   "cell_type": "code",
   "execution_count": 19,
   "metadata": {
    "collapsed": false
   },
   "outputs": [
    {
     "name": "stdout",
     "output_type": "stream",
     "text": [
      "['Rick', 'Maggie', 'Glenn', 'Carol', 'Daryl', 'Michonne']\n"
     ]
    }
   ],
   "source": [
    "# PUT /people\n",
    "req = json.loads(REQUEST)\n",
    "people.append(req['body'])\n",
    "print(people)"
   ]
  },
  {
   "cell_type": "code",
   "execution_count": 22,
   "metadata": {
    "collapsed": true
   },
   "outputs": [],
   "source": [
    "REQUEST = json.dumps({\n",
    "    'path' : {\n",
    "        'index' : 1\n",
    "    }\n",
    "})"
   ]
  },
  {
   "cell_type": "code",
   "execution_count": 23,
   "metadata": {
    "collapsed": false
   },
   "outputs": [
    {
     "name": "stdout",
     "output_type": "stream",
     "text": [
      "['Rick', 'Glenn', 'Carol', 'Daryl', 'Michonne']\n"
     ]
    }
   ],
   "source": [
    "# DELETE /people/:index\n",
    "req = json.loads(REQUEST)\n",
    "people.remove(people[int(req['path']['index'])])\n",
    "print(people)"
   ]
  },
  {
   "cell_type": "markdown",
   "metadata": {},
   "source": [
    "## Error"
   ]
  },
  {
   "cell_type": "code",
   "execution_count": 24,
   "metadata": {
    "collapsed": false
   },
   "outputs": [
    {
     "ename": "SyntaxError",
     "evalue": "invalid syntax (<ipython-input-24-f38d0efb0223>, line 2)",
     "output_type": "error",
     "traceback": [
      "\u001b[1;36m  File \u001b[1;32m\"<ipython-input-24-f38d0efb0223>\"\u001b[1;36m, line \u001b[1;32m2\u001b[0m\n\u001b[1;33m    this cell should print an error in the reponse\u001b[0m\n\u001b[1;37m            ^\u001b[0m\n\u001b[1;31mSyntaxError\u001b[0m\u001b[1;31m:\u001b[0m invalid syntax\n"
     ]
    }
   ],
   "source": [
    "# GET /error\n",
    "this cell should print an error in the reponse"
   ]
  }
 ],
 "metadata": {
  "kernelspec": {
   "display_name": "Python 3",
   "language": "python",
   "name": "python3"
  },
  "language_info": {
   "codemirror_mode": {
    "name": "ipython",
    "version": 3
   },
   "file_extension": ".py",
   "mimetype": "text/x-python",
   "name": "python",
   "nbconvert_exporter": "python",
   "pygments_lexer": "ipython3",
   "version": "3.4.3"
  }
 },
 "nbformat": 4,
 "nbformat_minor": 0
}
