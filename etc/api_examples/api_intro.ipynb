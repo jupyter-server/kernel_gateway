{
 "cells": [
  {
   "cell_type": "markdown",
   "metadata": {
    "deletable": true,
    "editable": true
   },
   "source": [
    "# Defining a Web API in a Notebook\n",
    "\n",
    "In this notebook, we'll define a RESTful web API for adding, updating, removing, and listing the members of a contact list. We'll then deploy our notebook as a service using the Jupyter Kernel Gateway.\n",
    "\n",
    "The contact list supported by this notebook is intentionally simple. See https://github.com/jupyter/kernel_gateway_demos for more complex examples and http://jupyter-kernel-gateway.readthedocs.io/en/latest/http-mode.html for full documentation.\n",
    "\n",
    "**Table of Contents**\n",
    "\n",
    "1. [Definition](#Definition)\n",
    "2. [Implementation](#Implementation)\n",
    "    1. [Create a contact](#Create-a-contact)\n",
    "    2. [Update a contact](#Update-a-contact)\n",
    "    3. [Delete a contact](#Delete-a-contact)\n",
    "    4. [Get contacts](#Get-contacts)\n",
    "3. [Deployment](#Deployment)\n",
    "4. [Test](#Test)"
   ]
  },
  {
   "cell_type": "markdown",
   "metadata": {
    "deletable": true,
    "editable": true
   },
   "source": [
    "## Definition\n",
    "\n",
    "Let's start by outlining the resources for our contact list.\n",
    "\n",
    "* `POST /contacts` &rarr; create a new contact\n",
    "* `PUT /contacts/:contact_id` &rarr; update a contact\n",
    "* `DELETE /contacts/:contact_id` &rarr; delete a contact\n",
    "* `GET /contacts?name=<regex>` &rarr; get contacts, optionally filtered by name\n",
    "\n",
    "We'll also state that requests and responses should carry JSON content for consistency."
   ]
  },
  {
   "cell_type": "markdown",
   "metadata": {
    "deletable": true,
    "editable": true
   },
   "source": [
    "## Implementation"
   ]
  },
  {
   "cell_type": "code",
   "execution_count": 1,
   "metadata": {
    "collapsed": true,
    "deletable": true,
    "editable": true
   },
   "outputs": [],
   "source": [
    "import json\n",
    "import os\n",
    "import uuid"
   ]
  },
  {
   "cell_type": "markdown",
   "metadata": {
    "deletable": true,
    "editable": true
   },
   "source": [
    "For simplicity, we'll use a global dictionary to store our contact list. If we later want to make our list persistent or our web service scale to multiple workers, we can switch to a true data store."
   ]
  },
  {
   "cell_type": "code",
   "execution_count": 2,
   "metadata": {
    "collapsed": true,
    "deletable": true,
    "editable": true
   },
   "outputs": [],
   "source": [
    "contacts = {}"
   ]
  },
  {
   "cell_type": "markdown",
   "metadata": {
    "deletable": true,
    "editable": true
   },
   "source": [
    "These are the fields we'll allow for each contact."
   ]
  },
  {
   "cell_type": "code",
   "execution_count": 3,
   "metadata": {
    "collapsed": true,
    "deletable": true,
    "editable": true
   },
   "outputs": [],
   "source": [
    "fields = [\"name\", \"phone\", \"address\"]"
   ]
  },
  {
   "cell_type": "markdown",
   "metadata": {
    "deletable": true,
    "editable": true
   },
   "source": [
    "### Create a contact\n",
    "\n",
    "We'll want to get the values for the name, phone, and address fields from the client when we create a contact. The kernel gateway will set the `REQUEST` variable to a JSON string containing information from the client. Let's synthesize an example request here in order to develop the code to add a contact to our contact list."
   ]
  },
  {
   "cell_type": "code",
   "execution_count": 4,
   "metadata": {
    "collapsed": true,
    "deletable": true,
    "editable": true
   },
   "outputs": [],
   "source": [
    "REQUEST = json.dumps(\n",
    "    {\n",
    "        \"body\": {\n",
    "            \"name\": \"Jane Doe\",\n",
    "            \"phone\": \"888-555-5245\",\n",
    "            \"address\": \"123 Bellview Drive, Somewhere, NC\",\n",
    "        }\n",
    "    }\n",
    ")"
   ]
  },
  {
   "cell_type": "markdown",
   "metadata": {
    "deletable": true,
    "editable": true
   },
   "source": [
    "Now let's write the handler code. We'll also annotate it so that the kernel gateway knows the code in this cell should execute when a client sends a HTTP `POST` request to the `/contacts` path."
   ]
  },
  {
   "cell_type": "code",
   "execution_count": 5,
   "metadata": {
    "collapsed": false,
    "deletable": true,
    "editable": true
   },
   "outputs": [
    {
     "name": "stdout",
     "output_type": "stream",
     "text": [
      "{\"contact_id\": \"9217e734-4dfd-4c32-a58a-375794bffb7e\"}\n"
     ]
    }
   ],
   "source": [
    "# POST /contacts\n",
    "# decode the request\n",
    "req = json.loads(REQUEST)\n",
    "# pull out the body\n",
    "body = req[\"body\"]\n",
    "# generate a new contact ID\n",
    "new_contact_id = str(uuid.uuid4())\n",
    "# put what we can about the contact in the dictionary\n",
    "contacts[new_contact_id] = {field: body.get(field) for field in fields}\n",
    "print(json.dumps({\"contact_id\": new_contact_id}))"
   ]
  },
  {
   "cell_type": "markdown",
   "metadata": {
    "deletable": true,
    "editable": true
   },
   "source": [
    "We can print the contacts to see if it contains the data from our sample request, and see that it does."
   ]
  },
  {
   "cell_type": "code",
   "execution_count": 6,
   "metadata": {
    "collapsed": false,
    "deletable": true,
    "editable": true
   },
   "outputs": [
    {
     "data": {
      "text/plain": [
       "{'9217e734-4dfd-4c32-a58a-375794bffb7e': {'address': '123 Bellview Drive, Somewhere, NC',\n",
       "  'name': 'Jane Doe',\n",
       "  'phone': '888-555-5245'}}"
      ]
     },
     "execution_count": 6,
     "metadata": {},
     "output_type": "execute_result"
    }
   ],
   "source": [
    "contacts"
   ]
  },
  {
   "cell_type": "markdown",
   "metadata": {
    "deletable": true,
    "editable": true
   },
   "source": [
    "It's worth pointing out that we can put development code like this in our notebook without harming how it works with the kernel gateway as long as our notebook can run top to bottom. With a little more effort, we can even write basic tests in our notebook that run only when we're authoring or editing the notebook."
   ]
  },
  {
   "cell_type": "markdown",
   "metadata": {
    "deletable": true,
    "editable": true
   },
   "source": [
    "### Update a contact\n",
    "\n",
    "We can follow the same pattern to implement updates to existing contacts. We start with an example request. We'll use the `new_contact_id` we generated above, but we'll be careful not to assume that it exists."
   ]
  },
  {
   "cell_type": "code",
   "execution_count": 7,
   "metadata": {
    "collapsed": true,
    "deletable": true,
    "editable": true
   },
   "outputs": [],
   "source": [
    "REQUEST = json.dumps(\n",
    "    {\n",
    "        \"body\": {\n",
    "            \"name\": \"Jane and John Doe\",\n",
    "            \"address\": \"321 Viewbell Lane, Somewhere Else, SC\",\n",
    "        },\n",
    "        \"path\": {\"contact_id\": globals().get(\"new_contact_id\", \"\")},\n",
    "    }\n",
    ")"
   ]
  },
  {
   "cell_type": "markdown",
   "metadata": {
    "deletable": true,
    "editable": true
   },
   "source": [
    "This time, we need to know the identity assigned to the contact we're updating. We'll get that by declaring a variable in the path of the resource, `contact_id`, and read the value from the request."
   ]
  },
  {
   "cell_type": "code",
   "execution_count": 8,
   "metadata": {
    "collapsed": false,
    "deletable": true,
    "editable": true
   },
   "outputs": [
    {
     "name": "stdout",
     "output_type": "stream",
     "text": [
      "{\"contact_id\": {\"name\": \"Jane and John Doe\", \"phone\": \"888-555-5245\", \"address\": \"321 Viewbell Lane, Somewhere Else, SC\"}}\n"
     ]
    }
   ],
   "source": [
    "# PUT /contacts/:contact_id\n",
    "req = json.loads(REQUEST)\n",
    "body = req[\"body\"]\n",
    "contact_id = req[\"path\"][\"contact_id\"]\n",
    "if contact_id in contacts:\n",
    "    contacts[contact_id].update({field: body[field] for field in fields if field in body})\n",
    "    status = 200\n",
    "    print(json.dumps({\"contact_id\": contacts[contact_id]}))\n",
    "else:\n",
    "    status = 404"
   ]
  },
  {
   "cell_type": "code",
   "execution_count": 9,
   "metadata": {
    "collapsed": false,
    "deletable": true,
    "editable": true
   },
   "outputs": [
    {
     "data": {
      "text/plain": [
       "{'9217e734-4dfd-4c32-a58a-375794bffb7e': {'address': '321 Viewbell Lane, Somewhere Else, SC',\n",
       "  'name': 'Jane and John Doe',\n",
       "  'phone': '888-555-5245'}}"
      ]
     },
     "execution_count": 9,
     "metadata": {},
     "output_type": "execute_result"
    }
   ],
   "source": [
    "contacts"
   ]
  },
  {
   "cell_type": "markdown",
   "metadata": {
    "deletable": true,
    "editable": true
   },
   "source": [
    "Notice how we set `status` to `200` when we have the requested contact and `404` when we don't. These are the HTTP status codes we want to return to help clients distinguish successful requests from failures. We can annotate a separate cell with `ResponseInfo` and print this status code, [as well as other information](http://jupyter-kernel-gateway.readthedocs.io/en/latest/http-mode.html#setting-the-response-status-and-headers) such as the mimetype of the response, in a JSON blob. The kernel gateway will parse this info and use it in the response to the client's HTTP request."
   ]
  },
  {
   "cell_type": "code",
   "execution_count": 10,
   "metadata": {
    "collapsed": false,
    "deletable": true,
    "editable": true
   },
   "outputs": [
    {
     "name": "stdout",
     "output_type": "stream",
     "text": [
      "{\"headers\": {\"Content-Type\": \"application/json\"}, \"status\": 200}\n"
     ]
    }
   ],
   "source": [
    "# ResponseInfo PUT /contacts/:contact_id\n",
    "print(json.dumps({\"status\": status, \"headers\": {\"Content-Type\": \"application/json\"}}))"
   ]
  },
  {
   "cell_type": "markdown",
   "metadata": {
    "deletable": true,
    "editable": true
   },
   "source": [
    "### Delete a contact"
   ]
  },
  {
   "cell_type": "markdown",
   "metadata": {
    "deletable": true,
    "editable": true
   },
   "source": [
    "Our deletion code is much the same. We take a contact ID and remove it from our dict if it exists. We respond with a reasonable status code for successful deletion or a failure when the given ID is not found."
   ]
  },
  {
   "cell_type": "code",
   "execution_count": 11,
   "metadata": {
    "collapsed": false,
    "deletable": true,
    "editable": true
   },
   "outputs": [],
   "source": [
    "# DELETE /contacts/:contact_id\n",
    "req = json.loads(REQUEST)\n",
    "contact_id = req[\"path\"][\"contact_id\"]\n",
    "if contact_id in contacts:\n",
    "    del contacts[contact_id]\n",
    "    # HTTP status code for no body\n",
    "    status = 204\n",
    "else:\n",
    "    # HTTP status code for not found\n",
    "    status = 404"
   ]
  },
  {
   "cell_type": "code",
   "execution_count": 12,
   "metadata": {
    "collapsed": false,
    "deletable": true,
    "editable": true
   },
   "outputs": [
    {
     "name": "stdout",
     "output_type": "stream",
     "text": [
      "{\"status\": 204}\n"
     ]
    }
   ],
   "source": [
    "# ResponseInfo DELETE /contacts/:contact_id\n",
    "print(\n",
    "    json.dumps(\n",
    "        {\n",
    "            \"status\": status,\n",
    "        }\n",
    "    )\n",
    ")"
   ]
  },
  {
   "cell_type": "markdown",
   "metadata": {
    "deletable": true,
    "editable": true
   },
   "source": [
    "### Get contacts\n",
    "\n",
    "Finally, our code to fetch contacts must support a query parameter according to our [resource definition](#Definition). We'll implement a function that filters contacts by name given an optional regular expression."
   ]
  },
  {
   "cell_type": "code",
   "execution_count": 13,
   "metadata": {
    "collapsed": false,
    "deletable": true,
    "editable": true
   },
   "outputs": [],
   "source": [
    "import re"
   ]
  },
  {
   "cell_type": "code",
   "execution_count": 14,
   "metadata": {
    "collapsed": true,
    "deletable": true,
    "editable": true
   },
   "outputs": [],
   "source": [
    "def filter_by_name(name_regex, contacts):\n",
    "    \"\"\"Get contacts with names matching the optional regex.\n",
    "\n",
    "    Get all contacts if name_regex is None.\n",
    "\n",
    "    Parameters\n",
    "    ----------\n",
    "    name_regex: str or None\n",
    "        Regular expression to match to contact names\n",
    "    contacts: list of dict\n",
    "        Contacts to consider\n",
    "\n",
    "    Returns\n",
    "    -------\n",
    "    list of dict\n",
    "        Matching contacts\n",
    "    \"\"\"\n",
    "    if name_regex is not None:\n",
    "        return {\n",
    "            contact_id: contact\n",
    "            for contact_id, contact in contacts.items()\n",
    "            if re.search(name_regex, contact[\"name\"], re.IGNORECASE)\n",
    "        }\n",
    "    else:\n",
    "        return contacts"
   ]
  },
  {
   "cell_type": "markdown",
   "metadata": {},
   "source": [
    "We can get the regular expression from query portion of the request URL."
   ]
  },
  {
   "cell_type": "code",
   "execution_count": 15,
   "metadata": {
    "collapsed": false,
    "deletable": true,
    "editable": true
   },
   "outputs": [
    {
     "name": "stdout",
     "output_type": "stream",
     "text": [
      "{}\n"
     ]
    }
   ],
   "source": [
    "# GET /contacts\n",
    "req = json.loads(REQUEST)\n",
    "# query args appear as a list since they can be repeated in the URL\n",
    "name_regex = req.get(\"args\", {}).get(\"name\", [None])[0]\n",
    "hits = filter_by_name(name_regex, contacts)\n",
    "print(json.dumps(hits))"
   ]
  },
  {
   "cell_type": "code",
   "execution_count": 16,
   "metadata": {
    "collapsed": false,
    "deletable": true,
    "editable": true
   },
   "outputs": [
    {
     "name": "stdout",
     "output_type": "stream",
     "text": [
      "{\"headers\": {\"Content-Type\": \"application/json\"}}\n"
     ]
    }
   ],
   "source": [
    "# ResponseInfo GET /contacts\n",
    "print(json.dumps({\"headers\": {\"Content-Type\": \"application/json\"}}))"
   ]
  },
  {
   "cell_type": "markdown",
   "metadata": {
    "deletable": true,
    "editable": true
   },
   "source": [
    "## Deployment\n",
    "\n",
    "Now we're ready to deploy our notebook-defined API using the kernel gateway. We'll run a command like the following in a shell session to start the server:\n",
    "\n",
    "```bash\n",
    "python kernel_gateway --api='kernel_gateway.notebook_http' \\\n",
    "    --seed_uri='etc/api_examples/api_intro.ipynb' \\\n",
    "    --port 8889\n",
    "```\n",
    "\n",
    "We need to adjust the `seed_uri` to point to the location of this notebook on disk either using an absolute path or a path relative to where we run the command."
   ]
  },
  {
   "cell_type": "markdown",
   "metadata": {},
   "source": [
    "## Test\n",
    "\n",
    "We can send a few requests to our new server to see how it responds. We'll put the client code in the same notebook as the API definition to keep the tutorial contained in a single notebook.  We'll make sure the client code doesn't run when the kernel gateway starts by checking if the `KERNEL_GATEWAY` environment variable is defined or not."
   ]
  },
  {
   "cell_type": "code",
   "execution_count": null,
   "metadata": {
    "collapsed": true
   },
   "outputs": [],
   "source": [
    "URL = \"http://127.0.0.1:8889\""
   ]
  },
  {
   "cell_type": "code",
   "execution_count": null,
   "metadata": {
    "collapsed": false
   },
   "outputs": [],
   "source": [
    "if \"KERNEL_GATEWAY\" not in os.environ:\n",
    "    import requests\n",
    "\n",
    "    # create a contact\n",
    "    post_resp = requests.post(\n",
    "        URL + \"/contacts\",\n",
    "        json={\n",
    "            \"name\": \"Alice Adams\",\n",
    "            \"phone\": \"919-555-6712\",\n",
    "            \"address\": \"42 Wallaby Way, Sydney, NC\",\n",
    "        },\n",
    "    )\n",
    "    post_resp.raise_for_status()\n",
    "    print(\"created a contact:\", post_resp.json())\n",
    "\n",
    "    first_contact_id = post_resp.json()[\"contact_id\"]\n",
    "\n",
    "    # update the contact\n",
    "    put_resp = requests.put(URL + \"/contacts/\" + first_contact_id, {\"phone\": \"919-444-5601\"})\n",
    "    put_resp.raise_for_status()\n",
    "    print(\"\\nupdated a contact:\", put_resp.json())\n",
    "\n",
    "    # add two more contacts\n",
    "    requests.post(\n",
    "        URL + \"/contacts\",\n",
    "        json={\n",
    "            \"name\": \"Bob Billiham\",\n",
    "            \"phone\": \"860-555-1409\",\n",
    "            \"address\": \"3712 Not Real Lane, Bridgeport, CT\",\n",
    "        },\n",
    "    ).raise_for_status()\n",
    "    requests.post(\n",
    "        URL + \"/contacts\",\n",
    "        json={\n",
    "            \"name\": \"Cathy Caritgan\",\n",
    "            \"phone\": \"512-555-6925\",\n",
    "            \"address\": \"11 Stringigent Road, Albany, NY\",\n",
    "        },\n",
    "    ).raise_for_status()\n",
    "    print(\"\\added two more contacts\")\n",
    "\n",
    "    # fetch contacts with 'billi' in the lowercased text\n",
    "    resp = requests.get(URL + \"/contacts?name=billi\")\n",
    "    resp.raise_for_status()\n",
    "    print(\"\\ncontacts w/ name Bill:\", resp.json())\n",
    "\n",
    "    # delete a contact\n",
    "    requests.delete(URL + \"/contacts/\" + first_contact_id).raise_for_status()\n",
    "    print(\"\\ndeleted a contact\")\n",
    "\n",
    "    # show all of the remaining contacts\n",
    "    resp = requests.get(URL + \"/contacts\")\n",
    "    resp.raise_for_status()\n",
    "    print(\"\\nall contacts:\", resp.json())"
   ]
  },
  {
   "cell_type": "code",
   "execution_count": null,
   "metadata": {
    "collapsed": true
   },
   "outputs": [],
   "source": []
  }
 ],
 "metadata": {
  "kernelspec": {
   "display_name": "Python 3",
   "language": "python",
   "name": "python3"
  },
  "language_info": {
   "codemirror_mode": {
    "name": "ipython",
    "version": 3
   },
   "file_extension": ".py",
   "mimetype": "text/x-python",
   "name": "python",
   "nbconvert_exporter": "python",
   "pygments_lexer": "ipython3",
   "version": "3.5.2"
  }
 },
 "nbformat": 4,
 "nbformat_minor": 0
}
