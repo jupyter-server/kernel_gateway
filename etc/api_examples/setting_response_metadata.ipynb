{
 "cells": [
  {
   "cell_type": "markdown",
   "metadata": {},
   "source": [
    "# Setting Response Metadata\n",
    "API cells can have an optional companion response cell to set response metadata (e.g. status, headers, etc.). An example comment, in python, for a companion cell would be `# ResponseInfo GET /resource`. The aforementioned companion cell would run after the corresponding API cell for `# GET /resource` is run. The companion cell relays response metadata to the kernel gateway by printing a well known json structure to standard out. An example of the json structure is as follows:\n",
    "\n",
    "```\n",
    "{\n",
    "    \"headers\" : {\n",
    "        \"Content-Type\" : \"application/json\"\n",
    "    },\n",
    "    \"status\" : 201\n",
    "}\n",
    "```\n",
    "\n",
    "Currently, `headers` and `status` are the only values supported. `headers` should be an object of key-value pairs of header names to header values for the response. `status` should be an integer value for the response status code."
   ]
  },
  {
   "cell_type": "markdown",
   "metadata": {},
   "source": [
    "## Setup\n",
    "The cells below install dependencies and creates some basic code functionality for our API."
   ]
  },
  {
   "cell_type": "code",
   "execution_count": null,
   "metadata": {
    "collapsed": false
   },
   "outputs": [],
   "source": [
    "!pip install dicttoxml"
   ]
  },
  {
   "cell_type": "code",
   "execution_count": null,
   "metadata": {
    "collapsed": true
   },
   "outputs": [],
   "source": [
    "import json\n",
    "from dicttoxml import dicttoxml\n",
    "import hashlib"
   ]
  },
  {
   "cell_type": "code",
   "execution_count": null,
   "metadata": {
    "collapsed": true
   },
   "outputs": [],
   "source": [
    "PERSON_INDEX = {1: {\"id\": 1, \"name\": \"Corey\", \"age\": 26, \"location\": \"Austin, TX\"}}"
   ]
  },
  {
   "cell_type": "code",
   "execution_count": null,
   "metadata": {
    "collapsed": false
   },
   "outputs": [],
   "source": [
    "def get_person(person_id):\n",
    "    person_id = int(person_id)\n",
    "    return PERSON_INDEX[person_id]\n",
    "\n",
    "\n",
    "def get_person_hash(person_id):\n",
    "    hash_value = hashlib.md5()\n",
    "    person = get_person(person_id)\n",
    "    hash_value.update(\n",
    "        \"{}-{}-{}-{}\".format(\n",
    "            person[\"id\"], person[\"name\"], person[\"age\"], person[\"location\"]\n",
    "        ).encode(\"UTF-8\")\n",
    "    )\n",
    "    return hash_value.hexdigest()\n",
    "\n",
    "\n",
    "def serialize_person(person, content_type):\n",
    "    if content_type == \"application/json\":\n",
    "        return json.dumps(person)\n",
    "    elif content_type == \"application/xml\" or content_type == \"text/xml\":\n",
    "        return dicttoxml(person).decode(\"UTF-8\")\n",
    "    elif content_type == \"text/html\":\n",
    "        return \"\"\"<p>{} is {} years old and lives in {}.</p>\"\"\".format(\n",
    "            person[\"name\"], person[\"age\"], person[\"location\"]\n",
    "        )\n",
    "\n",
    "\n",
    "def get_request_content_type(request):\n",
    "    if \"headers\" in request and \"Content-Type\" in request[\"headers\"]:\n",
    "        return request[\"headers\"][\"Content-Type\"]\n",
    "    else:\n",
    "        return \"text/html\"\n",
    "\n",
    "\n",
    "def get_request_etag(request):\n",
    "    if \"headers\" in request and \"If-None-Match\" in request[\"headers\"]:\n",
    "        return request[\"headers\"][\"If-None-Match\"]\n",
    "    else:\n",
    "        return None"
   ]
  },
  {
   "cell_type": "code",
   "execution_count": null,
   "metadata": {
    "collapsed": true
   },
   "outputs": [],
   "source": [
    "REQUEST = json.dumps(\n",
    "    {\n",
    "        \"path\": {\"id\": \"1\"},\n",
    "        \"headers\": {\n",
    "            \"Content-Type\": \"application/json\",\n",
    "            \"If-None-Match\": \"e958b9efafbd6429bfad0985df27a1fb\",\n",
    "        },\n",
    "    }\n",
    ")"
   ]
  },
  {
   "cell_type": "markdown",
   "metadata": {},
   "source": [
    "## The API Endpoint Cell\n",
    "This cell is responsible for creating the endpoint response value."
   ]
  },
  {
   "cell_type": "code",
   "execution_count": null,
   "metadata": {
    "collapsed": false
   },
   "outputs": [],
   "source": [
    "# GET /person/:id\n",
    "request = json.loads(REQUEST)\n",
    "etag = get_request_etag(request)\n",
    "person_id = int(request[\"path\"][\"id\"])\n",
    "current_person_hash = get_person_hash(person_id)\n",
    "status_code = 200\n",
    "if etag == current_person_hash:\n",
    "    status_code = 304\n",
    "else:\n",
    "    person = get_person(person_id)\n",
    "    response_value = serialize_person(person, get_request_content_type(request))\n",
    "    print(response_value)"
   ]
  },
  {
   "cell_type": "markdown",
   "metadata": {},
   "source": [
    "## Setting The Response Metadata\n",
    "This cell sets the response metadata by printing a json string to standard out."
   ]
  },
  {
   "cell_type": "code",
   "execution_count": null,
   "metadata": {
    "collapsed": false
   },
   "outputs": [],
   "source": [
    "# ResponseInfo GET /person/:id\n",
    "print(\n",
    "    json.dumps(\n",
    "        {\n",
    "            \"headers\": {\n",
    "                \"Content-Type\": get_request_content_type(request),\n",
    "                \"ETag\": current_person_hash,\n",
    "            },\n",
    "            \"status\": status_code,\n",
    "        }\n",
    "    )\n",
    ")"
   ]
  },
  {
   "cell_type": "code",
   "execution_count": null,
   "metadata": {
    "collapsed": true
   },
   "outputs": [],
   "source": []
  }
 ],
 "metadata": {
  "kernelspec": {
   "display_name": "Python 3",
   "language": "python",
   "name": "python3"
  },
  "language_info": {
   "codemirror_mode": {
    "name": "ipython",
    "version": 3
   },
   "file_extension": ".py",
   "mimetype": "text/x-python",
   "name": "python",
   "nbconvert_exporter": "python",
   "pygments_lexer": "ipython3",
   "version": "3.4.3"
  }
 },
 "nbformat": 4,
 "nbformat_minor": 0
}
